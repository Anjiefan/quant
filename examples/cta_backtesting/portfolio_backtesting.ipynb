{
 "cells": [
  {
   "cell_type": "code",
   "execution_count": 1,
   "metadata": {},
   "outputs": [],
   "source": [
    "from vnpy.app.cta_strategy.backtesting import BacktestingEngine, OptimizationSetting\n",
    "from vnpy.app.cta_strategy.strategies.atr_rsi_strategy import AtrRsiStrategy\n",
    "from vnpy.app.cta_strategy.strategies.boll_channel_strategy import BollChannelStrategy\n",
    "from datetime import datetime"
   ]
  },
  {
   "cell_type": "code",
   "execution_count": 8,
   "metadata": {},
   "outputs": [],
   "source": [
    "def run_backtesting(strategy_class, setting, vt_symbol, interval, start, end, rate, slippage, size, pricetick, capital):\n",
    "    engine = BacktestingEngine()\n",
    "    engine.set_parameters(\n",
    "        vt_symbol=vt_symbol,\n",
    "        interval=interval,\n",
    "        start=start,\n",
    "        end=end,\n",
    "        rate=rate,\n",
    "        slippage=slippage,\n",
    "        size=size,\n",
    "        pricetick=pricetick,\n",
    "        capital=capital    \n",
    "    )\n",
    "    engine.add_strategy(strategy_class, setting)\n",
    "    engine.load_data()\n",
    "    engine.run_backtesting()\n",
    "    df = engine.calculate_result()\n",
    "    return df\n",
    "\n",
    "def show_portafolio(df):\n",
    "    engine = BacktestingEngine()\n",
    "    engine.calculate_statistics(df)\n",
    "    engine.show_chart(df)"
   ]
  },
  {
   "cell_type": "code",
   "execution_count": 9,
   "metadata": {},
   "outputs": [
    {
     "name": "stdout",
     "output_type": "stream",
     "text": [
      "2020-11-04 00:18:24.993172\t开始加载历史数据\n",
      "2020-11-04 00:18:24.993553\t加载进度：## [25%]\n",
      "2020-11-04 00:18:24.993599\t加载进度：##### [50%]\n",
      "2020-11-04 00:18:24.993637\t加载进度：####### [76%]\n",
      "2020-11-04 00:18:24.993673\t加载进度：########## [100%]\n",
      "2020-11-04 00:18:24.993703\t历史数据加载完成，数据量：0\n",
      "2020-11-04 00:18:24.993748\t策略初始化完成\n",
      "2020-11-04 00:18:24.993780\t开始回放历史数据\n",
      "2020-11-04 00:18:24.993811\t历史数据回放结束\n",
      "2020-11-04 00:18:24.993838\t开始计算逐日盯市盈亏\n",
      "2020-11-04 00:18:24.993864\t成交记录为空，无法计算\n"
     ]
    }
   ],
   "source": [
    "df1 = run_backtesting(\n",
    "    strategy_class=AtrRsiStrategy, \n",
    "    setting={}, \n",
    "    vt_symbol=\"IF88.CFFEX\",\n",
    "    interval=\"1m\", \n",
    "    start=datetime(2019, 1, 1), \n",
    "    end=datetime(2019, 4, 30),\n",
    "    rate=0.3/10000,\n",
    "    slippage=0.2,\n",
    "    size=300,\n",
    "    pricetick=0.2,\n",
    "    capital=1_000_000,\n",
    "    )"
   ]
  },
  {
   "cell_type": "code",
   "execution_count": 10,
   "metadata": {},
   "outputs": [
    {
     "name": "stdout",
     "output_type": "stream",
     "text": [
      "2020-11-04 00:18:25.946811\t开始加载历史数据\n",
      "2020-11-04 00:18:25.947099\t加载进度：## [25%]\n",
      "2020-11-04 00:18:25.947142\t加载进度：##### [50%]\n",
      "2020-11-04 00:18:25.947168\t加载进度：####### [76%]\n",
      "2020-11-04 00:18:25.947198\t加载进度：########## [100%]\n",
      "2020-11-04 00:18:25.947217\t历史数据加载完成，数据量：0\n",
      "2020-11-04 00:18:25.947279\t策略初始化完成\n",
      "2020-11-04 00:18:25.947324\t开始回放历史数据\n",
      "2020-11-04 00:18:25.947346\t历史数据回放结束\n",
      "2020-11-04 00:18:25.947369\t开始计算逐日盯市盈亏\n",
      "2020-11-04 00:18:25.947390\t成交记录为空，无法计算\n"
     ]
    }
   ],
   "source": [
    "df2 = run_backtesting(\n",
    "    strategy_class=BollChannelStrategy, \n",
    "    setting={'fixed_size': 16}, \n",
    "    vt_symbol=\"RB88.SHFE\",\n",
    "    interval=\"1m\", \n",
    "    start=datetime(2019, 1, 1), \n",
    "    end=datetime(2019, 4, 30),\n",
    "    rate=1/10000,\n",
    "    slippage=1,\n",
    "    size=10,\n",
    "    pricetick=1,\n",
    "    capital=1_000_000,\n",
    "    )"
   ]
  },
  {
   "cell_type": "code",
   "execution_count": 12,
   "metadata": {},
   "outputs": [
    {
     "ename": "TypeError",
     "evalue": "unsupported operand type(s) for +: 'NoneType' and 'NoneType'",
     "traceback": [
      "\u001b[0;31m---------------------------------------------------------------------------\u001b[0m",
      "\u001b[0;31mTypeError\u001b[0m                                 Traceback (most recent call last)",
      "\u001b[0;32m<ipython-input-12-aff6de7ed614>\u001b[0m in \u001b[0;36m<module>\u001b[0;34m\u001b[0m\n\u001b[0;32m----> 1\u001b[0;31m \u001b[0mdfp\u001b[0m \u001b[0;34m=\u001b[0m \u001b[0mdf1\u001b[0m \u001b[0;34m+\u001b[0m \u001b[0mdf2\u001b[0m\u001b[0;34m\u001b[0m\u001b[0m\n\u001b[0m\u001b[1;32m      2\u001b[0m \u001b[0mdfp\u001b[0m \u001b[0;34m=\u001b[0m\u001b[0mdfp\u001b[0m\u001b[0;34m.\u001b[0m\u001b[0mdropna\u001b[0m\u001b[0;34m(\u001b[0m\u001b[0;34m)\u001b[0m\u001b[0;34m\u001b[0m\u001b[0m\n\u001b[1;32m      3\u001b[0m \u001b[0mshow_portafolio\u001b[0m\u001b[0;34m(\u001b[0m\u001b[0mdfp\u001b[0m\u001b[0;34m)\u001b[0m\u001b[0;34m\u001b[0m\u001b[0m\n",
      "\u001b[0;31mTypeError\u001b[0m: unsupported operand type(s) for +: 'NoneType' and 'NoneType'"
     ],
     "output_type": "error"
    }
   ],
   "source": [
    "dfp = df1 + df2\n",
    "dfp =dfp.dropna() \n",
    "show_portafolio(dfp)"
   ]
  },
  {
   "cell_type": "code",
   "execution_count": null,
   "metadata": {},
   "outputs": [],
   "source": []
  },
  {
   "cell_type": "code",
   "execution_count": null,
   "metadata": {},
   "outputs": [],
   "source": []
  }
 ],
 "metadata": {
  "kernelspec": {
   "display_name": "Python 3",
   "language": "python",
   "name": "python3"
  },
  "language_info": {
   "codemirror_mode": {
    "name": "ipython",
    "version": 3
   },
   "file_extension": ".py",
   "mimetype": "text/x-python",
   "name": "python",
   "nbconvert_exporter": "python",
   "pygments_lexer": "ipython3",
   "version": "3.6.2"
  },
  "toc": {
   "base_numbering": 1.0,
   "nav_menu": {},
   "number_sections": true,
   "sideBar": true,
   "skip_h1_title": false,
   "title_cell": "Table of Contents",
   "title_sidebar": "Contents",
   "toc_cell": false,
   "toc_position": {},
   "toc_section_display": true,
   "toc_window_display": false
  }
 },
 "nbformat": 4,
 "nbformat_minor": 2
}
